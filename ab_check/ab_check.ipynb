{
 "cells": [
  {
   "cell_type": "markdown",
   "metadata": {},
   "source": [
    "# A/B-тестирование\n",
    "---\n",
    "### Постановка задачи\n",
    "\n",
    "Задача — провести оценку результатов A/B-теста. В нашем распоряжении есть датасет с действиями пользователей, техническое задание и несколько вспомогательных датасетов.\n",
    "\n",
    "### Декомпозиция задачи\n",
    "\n",
    "- [описание данных](#Описание-данных);\n",
    "- [предобработка данных](#Предобработка-данных);\n",
    "- [исследовательский анализ данных](#Исследовательский-анализ-данных):\n",
    "    - [изучение воронки событий](#Изучение-воронки-событий);\n",
    "    - [проверка распределения количества событий в выборках](#Проверка-распределения-количества-событий-в-выборках);\n",
    "    - [изучение рспределения количества событий по дням](#Изучение-распределения-количества-событий-по-дням);\n",
    "- [оценка корректности проведения теста](#Оценка-корректности-проведения-теста):\n",
    "    - [проверка пересечения тестовой аудитории с конкурирующим тестом](#Проверка-пересечения-тестовой-аудитории-с-конкурирующим-тестом);\n",
    "    - [проверка временных границ теста](#Проверка-временных-границ-теста);\n",
    "- [анализ результатов теста](#Анализ-результатов-теста);\n",
    "- [проверка аудитории теста](#Проверка-аудитории-теста);\n",
    "- [выводы](#Выводы).\n",
    "\n",
    "### Техническое задание\n",
    "\n",
    "- Название теста: `recommender_system_test`;\n",
    "- группы: А — контрольная, B — новая платёжная воронка;\n",
    "- дата запуска: 2020-12-07;\n",
    "- дата остановки набора новых пользователей: 2020-12-21;\n",
    "- дата остановки: 2021-01-04;\n",
    "- аудитория: 15% новых пользователей из региона EU;\n",
    "- назначение теста: тестирование изменений, связанных с внедрением улучшенной рекомендательной системы;\n",
    "- ожидаемое количество участников теста: 6000.\n",
    "- ожидаемый эффект: за 14 дней с момента регистрации пользователи покажут улучшение каждой метрики не менее, чем на 10%:\n",
    "    - конверсии в просмотр карточек товаров — событие `product_page`,\n",
    "    - просмотры корзины — `product_cart`,\n",
    "    - покупки — `purchase`.\n",
    "    \n",
    "### Описание данных\n",
    "\n",
    "1. `ab_project_marketing_events.csv` — календарь маркетинговых событий на 2020 год.\n",
    "\n",
    "Структура файла:\n",
    "\n",
    "- `name` — название маркетингового события;\n",
    "- `regions` — регионы, в которых будет проводиться рекламная кампания;\n",
    "- `start_dt` — дата начала кампании;\n",
    "- `finish_dt` — дата завершения кампании.\n",
    "\n",
    "\n",
    "2. `final_ab_new_users.csv` — пользователи, зарегистрировавшиеся с 7 по 21 декабря 2020 года.\n",
    "\n",
    "Структура файла:\n",
    "\n",
    "- `user_id` — идентификатор пользователя;\n",
    "- `first_date` — дата регистрации;\n",
    "- `region` — регион пользователя;\n",
    "- `device` — устройство, с которого происходила регистрация.\n",
    "\n",
    "\n",
    "3. `final_ab_events.csv` — действия новых пользователей в период с 7 декабря 2020 по 4 января 2021 года.\n",
    "\n",
    "Структура файла:\n",
    "\n",
    "- `user_id` — идентификатор пользователя;\n",
    "- `event_dt` — дата и время покупки;\n",
    "- `event_name` — тип события;\n",
    "- `details` — дополнительные данные о событии. Например, для покупок, `purchase,` в этом поле хранится стоимость покупки в долларах.\n",
    "\n",
    "\n",
    "4. `final_ab_participants.csv` — таблица участников тестов.\n",
    "\n",
    "Структура файла:\n",
    "\n",
    "- `user_id` — идентификатор пользователя;\n",
    "- `ab_test` — название теста;\n",
    "- `group` — группа пользователя."
   ]
  },
  {
   "cell_type": "code",
   "execution_count": 1,
   "metadata": {},
   "outputs": [],
   "source": [
    "import pandas as pd\n",
    "import numpy as np\n",
    "import math as mth\n",
    "\n",
    "from scipy import stats as st\n",
    "\n",
    "from matplotlib import pyplot as plt\n",
    "import seaborn as sns\n",
    "%config InlineBackend.figure_format = 'retina'\n",
    "\n",
    "from IPython.display import HTML\n",
    "\n",
    "import warnings\n",
    "warnings.filterwarnings('ignore')"
   ]
  },
  {
   "cell_type": "code",
   "execution_count": 2,
   "metadata": {},
   "outputs": [],
   "source": [
    "participants = pd.read_csv('/datasets/final_ab_participants.csv')\n",
    "events = pd.read_csv('/datasets/final_ab_events.csv')\n",
    "new_users = pd.read_csv('/datasets/final_ab_new_users.csv')\n",
    "marketing = pd.read_csv('/datasets/ab_project_marketing_events.csv')\n",
    "\n",
    "tbls = [participants, events, new_users, marketing]\n",
    "\n",
    "participants.title = 'Таблица участников тестов'\n",
    "events.title = 'Действия новых пользователей в период с 7 декабря 2020 по 4 января 2021 года'\n",
    "new_users.title = 'Пользователи, зарегистрировавшиеся с 7 по 21 декабря 2020 года'\n",
    "marketing.title = 'Календарь маркетинговых событий на 2020 год'"
   ]
  },
  {
   "cell_type": "markdown",
   "metadata": {},
   "source": [
    "Ознакомимся с таблицами:"
   ]
  },
  {
   "cell_type": "code",
   "execution_count": 3,
   "metadata": {
    "scrolled": false
   },
   "outputs": [
    {
     "name": "stdout",
     "output_type": "stream",
     "text": [
      "\u001b[1mТаблица участников тестов \n",
      "\u001b[0;0m\n"
     ]
    },
    {
     "data": {
      "text/html": [
       "<div>\n",
       "<style scoped>\n",
       "    .dataframe tbody tr th:only-of-type {\n",
       "        vertical-align: middle;\n",
       "    }\n",
       "\n",
       "    .dataframe tbody tr th {\n",
       "        vertical-align: top;\n",
       "    }\n",
       "\n",
       "    .dataframe thead th {\n",
       "        text-align: right;\n",
       "    }\n",
       "</style>\n",
       "<table border=\"1\" class=\"dataframe\">\n",
       "  <thead>\n",
       "    <tr style=\"text-align: right;\">\n",
       "      <th></th>\n",
       "      <th>user_id</th>\n",
       "      <th>group</th>\n",
       "      <th>ab_test</th>\n",
       "    </tr>\n",
       "  </thead>\n",
       "  <tbody>\n",
       "    <tr>\n",
       "      <td>0</td>\n",
       "      <td>D1ABA3E2887B6A73</td>\n",
       "      <td>A</td>\n",
       "      <td>recommender_system_test</td>\n",
       "    </tr>\n",
       "    <tr>\n",
       "      <td>1</td>\n",
       "      <td>A7A3664BD6242119</td>\n",
       "      <td>A</td>\n",
       "      <td>recommender_system_test</td>\n",
       "    </tr>\n",
       "    <tr>\n",
       "      <td>2</td>\n",
       "      <td>DABC14FDDFADD29E</td>\n",
       "      <td>A</td>\n",
       "      <td>recommender_system_test</td>\n",
       "    </tr>\n",
       "    <tr>\n",
       "      <td>3</td>\n",
       "      <td>04988C5DF189632E</td>\n",
       "      <td>A</td>\n",
       "      <td>recommender_system_test</td>\n",
       "    </tr>\n",
       "    <tr>\n",
       "      <td>4</td>\n",
       "      <td>482F14783456D21B</td>\n",
       "      <td>B</td>\n",
       "      <td>recommender_system_test</td>\n",
       "    </tr>\n",
       "  </tbody>\n",
       "</table>\n",
       "</div>"
      ],
      "text/plain": [
       "            user_id group                  ab_test\n",
       "0  D1ABA3E2887B6A73     A  recommender_system_test\n",
       "1  A7A3664BD6242119     A  recommender_system_test\n",
       "2  DABC14FDDFADD29E     A  recommender_system_test\n",
       "3  04988C5DF189632E     A  recommender_system_test\n",
       "4  482F14783456D21B     B  recommender_system_test"
      ]
     },
     "metadata": {},
     "output_type": "display_data"
    },
    {
     "name": "stdout",
     "output_type": "stream",
     "text": [
      "\u001b[1mДействия новых пользователей в период с 7 декабря 2020 по 4 января 2021 года \n",
      "\u001b[0;0m\n"
     ]
    },
    {
     "data": {
      "text/html": [
       "<div>\n",
       "<style scoped>\n",
       "    .dataframe tbody tr th:only-of-type {\n",
       "        vertical-align: middle;\n",
       "    }\n",
       "\n",
       "    .dataframe tbody tr th {\n",
       "        vertical-align: top;\n",
       "    }\n",
       "\n",
       "    .dataframe thead th {\n",
       "        text-align: right;\n",
       "    }\n",
       "</style>\n",
       "<table border=\"1\" class=\"dataframe\">\n",
       "  <thead>\n",
       "    <tr style=\"text-align: right;\">\n",
       "      <th></th>\n",
       "      <th>user_id</th>\n",
       "      <th>event_dt</th>\n",
       "      <th>event_name</th>\n",
       "      <th>details</th>\n",
       "    </tr>\n",
       "  </thead>\n",
       "  <tbody>\n",
       "    <tr>\n",
       "      <td>0</td>\n",
       "      <td>E1BDDCE0DAFA2679</td>\n",
       "      <td>2020-12-07 20:22:03</td>\n",
       "      <td>purchase</td>\n",
       "      <td>99.99</td>\n",
       "    </tr>\n",
       "    <tr>\n",
       "      <td>1</td>\n",
       "      <td>7B6452F081F49504</td>\n",
       "      <td>2020-12-07 09:22:53</td>\n",
       "      <td>purchase</td>\n",
       "      <td>9.99</td>\n",
       "    </tr>\n",
       "    <tr>\n",
       "      <td>2</td>\n",
       "      <td>9CD9F34546DF254C</td>\n",
       "      <td>2020-12-07 12:59:29</td>\n",
       "      <td>purchase</td>\n",
       "      <td>4.99</td>\n",
       "    </tr>\n",
       "    <tr>\n",
       "      <td>3</td>\n",
       "      <td>96F27A054B191457</td>\n",
       "      <td>2020-12-07 04:02:40</td>\n",
       "      <td>purchase</td>\n",
       "      <td>4.99</td>\n",
       "    </tr>\n",
       "    <tr>\n",
       "      <td>4</td>\n",
       "      <td>1FD7660FDF94CA1F</td>\n",
       "      <td>2020-12-07 10:15:09</td>\n",
       "      <td>purchase</td>\n",
       "      <td>4.99</td>\n",
       "    </tr>\n",
       "  </tbody>\n",
       "</table>\n",
       "</div>"
      ],
      "text/plain": [
       "            user_id             event_dt event_name  details\n",
       "0  E1BDDCE0DAFA2679  2020-12-07 20:22:03   purchase    99.99\n",
       "1  7B6452F081F49504  2020-12-07 09:22:53   purchase     9.99\n",
       "2  9CD9F34546DF254C  2020-12-07 12:59:29   purchase     4.99\n",
       "3  96F27A054B191457  2020-12-07 04:02:40   purchase     4.99\n",
       "4  1FD7660FDF94CA1F  2020-12-07 10:15:09   purchase     4.99"
      ]
     },
     "metadata": {},
     "output_type": "display_data"
    },
    {
     "name": "stdout",
     "output_type": "stream",
     "text": [
      "\u001b[1mПользователи, зарегистрировавшиеся с 7 по 21 декабря 2020 года \n",
      "\u001b[0;0m\n"
     ]
    },
    {
     "data": {
      "text/html": [
       "<div>\n",
       "<style scoped>\n",
       "    .dataframe tbody tr th:only-of-type {\n",
       "        vertical-align: middle;\n",
       "    }\n",
       "\n",
       "    .dataframe tbody tr th {\n",
       "        vertical-align: top;\n",
       "    }\n",
       "\n",
       "    .dataframe thead th {\n",
       "        text-align: right;\n",
       "    }\n",
       "</style>\n",
       "<table border=\"1\" class=\"dataframe\">\n",
       "  <thead>\n",
       "    <tr style=\"text-align: right;\">\n",
       "      <th></th>\n",
       "      <th>user_id</th>\n",
       "      <th>first_date</th>\n",
       "      <th>region</th>\n",
       "      <th>device</th>\n",
       "    </tr>\n",
       "  </thead>\n",
       "  <tbody>\n",
       "    <tr>\n",
       "      <td>0</td>\n",
       "      <td>D72A72121175D8BE</td>\n",
       "      <td>2020-12-07</td>\n",
       "      <td>EU</td>\n",
       "      <td>PC</td>\n",
       "    </tr>\n",
       "    <tr>\n",
       "      <td>1</td>\n",
       "      <td>F1C668619DFE6E65</td>\n",
       "      <td>2020-12-07</td>\n",
       "      <td>N.America</td>\n",
       "      <td>Android</td>\n",
       "    </tr>\n",
       "    <tr>\n",
       "      <td>2</td>\n",
       "      <td>2E1BF1D4C37EA01F</td>\n",
       "      <td>2020-12-07</td>\n",
       "      <td>EU</td>\n",
       "      <td>PC</td>\n",
       "    </tr>\n",
       "    <tr>\n",
       "      <td>3</td>\n",
       "      <td>50734A22C0C63768</td>\n",
       "      <td>2020-12-07</td>\n",
       "      <td>EU</td>\n",
       "      <td>iPhone</td>\n",
       "    </tr>\n",
       "    <tr>\n",
       "      <td>4</td>\n",
       "      <td>E1BDDCE0DAFA2679</td>\n",
       "      <td>2020-12-07</td>\n",
       "      <td>N.America</td>\n",
       "      <td>iPhone</td>\n",
       "    </tr>\n",
       "  </tbody>\n",
       "</table>\n",
       "</div>"
      ],
      "text/plain": [
       "            user_id  first_date     region   device\n",
       "0  D72A72121175D8BE  2020-12-07         EU       PC\n",
       "1  F1C668619DFE6E65  2020-12-07  N.America  Android\n",
       "2  2E1BF1D4C37EA01F  2020-12-07         EU       PC\n",
       "3  50734A22C0C63768  2020-12-07         EU   iPhone\n",
       "4  E1BDDCE0DAFA2679  2020-12-07  N.America   iPhone"
      ]
     },
     "metadata": {},
     "output_type": "display_data"
    },
    {
     "name": "stdout",
     "output_type": "stream",
     "text": [
      "\u001b[1mКалендарь маркетинговых событий на 2020 год \n",
      "\u001b[0;0m\n"
     ]
    },
    {
     "data": {
      "text/html": [
       "<div>\n",
       "<style scoped>\n",
       "    .dataframe tbody tr th:only-of-type {\n",
       "        vertical-align: middle;\n",
       "    }\n",
       "\n",
       "    .dataframe tbody tr th {\n",
       "        vertical-align: top;\n",
       "    }\n",
       "\n",
       "    .dataframe thead th {\n",
       "        text-align: right;\n",
       "    }\n",
       "</style>\n",
       "<table border=\"1\" class=\"dataframe\">\n",
       "  <thead>\n",
       "    <tr style=\"text-align: right;\">\n",
       "      <th></th>\n",
       "      <th>name</th>\n",
       "      <th>regions</th>\n",
       "      <th>start_dt</th>\n",
       "      <th>finish_dt</th>\n",
       "    </tr>\n",
       "  </thead>\n",
       "  <tbody>\n",
       "    <tr>\n",
       "      <td>0</td>\n",
       "      <td>Christmas&amp;New Year Promo</td>\n",
       "      <td>EU, N.America</td>\n",
       "      <td>2020-12-25</td>\n",
       "      <td>2021-01-03</td>\n",
       "    </tr>\n",
       "    <tr>\n",
       "      <td>1</td>\n",
       "      <td>St. Valentine's Day Giveaway</td>\n",
       "      <td>EU, CIS, APAC, N.America</td>\n",
       "      <td>2020-02-14</td>\n",
       "      <td>2020-02-16</td>\n",
       "    </tr>\n",
       "    <tr>\n",
       "      <td>2</td>\n",
       "      <td>St. Patric's Day Promo</td>\n",
       "      <td>EU, N.America</td>\n",
       "      <td>2020-03-17</td>\n",
       "      <td>2020-03-19</td>\n",
       "    </tr>\n",
       "    <tr>\n",
       "      <td>3</td>\n",
       "      <td>Easter Promo</td>\n",
       "      <td>EU, CIS, APAC, N.America</td>\n",
       "      <td>2020-04-12</td>\n",
       "      <td>2020-04-19</td>\n",
       "    </tr>\n",
       "    <tr>\n",
       "      <td>4</td>\n",
       "      <td>4th of July Promo</td>\n",
       "      <td>N.America</td>\n",
       "      <td>2020-07-04</td>\n",
       "      <td>2020-07-11</td>\n",
       "    </tr>\n",
       "  </tbody>\n",
       "</table>\n",
       "</div>"
      ],
      "text/plain": [
       "                           name                   regions    start_dt  \\\n",
       "0      Christmas&New Year Promo             EU, N.America  2020-12-25   \n",
       "1  St. Valentine's Day Giveaway  EU, CIS, APAC, N.America  2020-02-14   \n",
       "2        St. Patric's Day Promo             EU, N.America  2020-03-17   \n",
       "3                  Easter Promo  EU, CIS, APAC, N.America  2020-04-12   \n",
       "4             4th of July Promo                 N.America  2020-07-04   \n",
       "\n",
       "    finish_dt  \n",
       "0  2021-01-03  \n",
       "1  2020-02-16  \n",
       "2  2020-03-19  \n",
       "3  2020-04-19  \n",
       "4  2020-07-11  "
      ]
     },
     "metadata": {},
     "output_type": "display_data"
    }
   ],
   "source": [
    "for t in tbls:\n",
    "    print('\\033[1m' + t.title,'\\n' + '\\033[0;0m')\n",
    "    display(t.head())"
   ]
  },
  {
   "cell_type": "markdown",
   "metadata": {},
   "source": [
    "### Предобработка данных\n",
    "\n",
    "[Вернуться в начало](#A/B-тестирование)"
   ]
  },
  {
   "cell_type": "markdown",
   "metadata": {},
   "source": [
    "Выведем основную информацию о таблицах:"
   ]
  },
  {
   "cell_type": "code",
   "execution_count": 4,
   "metadata": {
    "scrolled": false
   },
   "outputs": [
    {
     "name": "stdout",
     "output_type": "stream",
     "text": [
      "\u001b[1mТаблица участников тестов \n",
      "\u001b[0;0m\n",
      "<class 'pandas.core.frame.DataFrame'>\n",
      "RangeIndex: 18268 entries, 0 to 18267\n",
      "Data columns (total 3 columns):\n",
      "user_id    18268 non-null object\n",
      "group      18268 non-null object\n",
      "ab_test    18268 non-null object\n",
      "dtypes: object(3)\n",
      "memory usage: 428.3+ KB\n"
     ]
    },
    {
     "data": {
      "text/plain": [
       "None"
      ]
     },
     "metadata": {},
     "output_type": "display_data"
    },
    {
     "name": "stdout",
     "output_type": "stream",
     "text": [
      "\u001b[1mДействия новых пользователей в период с 7 декабря 2020 по 4 января 2021 года \n",
      "\u001b[0;0m\n",
      "<class 'pandas.core.frame.DataFrame'>\n",
      "RangeIndex: 440317 entries, 0 to 440316\n",
      "Data columns (total 4 columns):\n",
      "user_id       440317 non-null object\n",
      "event_dt      440317 non-null object\n",
      "event_name    440317 non-null object\n",
      "details       62740 non-null float64\n",
      "dtypes: float64(1), object(3)\n",
      "memory usage: 13.4+ MB\n"
     ]
    },
    {
     "data": {
      "text/plain": [
       "None"
      ]
     },
     "metadata": {},
     "output_type": "display_data"
    },
    {
     "name": "stdout",
     "output_type": "stream",
     "text": [
      "\u001b[1mПользователи, зарегистрировавшиеся с 7 по 21 декабря 2020 года \n",
      "\u001b[0;0m\n",
      "<class 'pandas.core.frame.DataFrame'>\n",
      "RangeIndex: 61733 entries, 0 to 61732\n",
      "Data columns (total 4 columns):\n",
      "user_id       61733 non-null object\n",
      "first_date    61733 non-null object\n",
      "region        61733 non-null object\n",
      "device        61733 non-null object\n",
      "dtypes: object(4)\n",
      "memory usage: 1.9+ MB\n"
     ]
    },
    {
     "data": {
      "text/plain": [
       "None"
      ]
     },
     "metadata": {},
     "output_type": "display_data"
    },
    {
     "name": "stdout",
     "output_type": "stream",
     "text": [
      "\u001b[1mКалендарь маркетинговых событий на 2020 год \n",
      "\u001b[0;0m\n",
      "<class 'pandas.core.frame.DataFrame'>\n",
      "RangeIndex: 14 entries, 0 to 13\n",
      "Data columns (total 4 columns):\n",
      "name         14 non-null object\n",
      "regions      14 non-null object\n",
      "start_dt     14 non-null object\n",
      "finish_dt    14 non-null object\n",
      "dtypes: object(4)\n",
      "memory usage: 576.0+ bytes\n"
     ]
    },
    {
     "data": {
      "text/plain": [
       "None"
      ]
     },
     "metadata": {},
     "output_type": "display_data"
    }
   ],
   "source": [
    "for t in tbls:\n",
    "    print('\\033[1m' + t.title,'\\n' + '\\033[0;0m')\n",
    "    display(t.info())"
   ]
  },
  {
   "cell_type": "markdown",
   "metadata": {},
   "source": [
    "Видим несоответствие типов в столбцах с датами и пропуски в столбце `details` таблицы `events`.\n",
    "Пропуски обусловлены тем, что не обо всех событиях есть дополнительные данные (как, например, стоимость для покупки). Поэтому заменять их каким-либо значением не следует. Проверим только, есть ли пропуски в этом столбце в покупках и есть ли дополнительные данные о других событиях:"
   ]
  },
  {
   "cell_type": "code",
   "execution_count": 5,
   "metadata": {},
   "outputs": [
    {
     "name": "stdout",
     "output_type": "stream",
     "text": [
      "<class 'pandas.core.frame.DataFrame'>\n",
      "Int64Index: 62740 entries, 0 to 62739\n",
      "Data columns (total 4 columns):\n",
      "user_id       62740 non-null object\n",
      "event_dt      62740 non-null object\n",
      "event_name    62740 non-null object\n",
      "details       62740 non-null float64\n",
      "dtypes: float64(1), object(3)\n",
      "memory usage: 2.4+ MB\n"
     ]
    },
    {
     "data": {
      "text/plain": [
       "None"
      ]
     },
     "metadata": {},
     "output_type": "display_data"
    },
    {
     "name": "stdout",
     "output_type": "stream",
     "text": [
      "<class 'pandas.core.frame.DataFrame'>\n",
      "Int64Index: 377577 entries, 62740 to 440316\n",
      "Data columns (total 4 columns):\n",
      "user_id       377577 non-null object\n",
      "event_dt      377577 non-null object\n",
      "event_name    377577 non-null object\n",
      "details       0 non-null float64\n",
      "dtypes: float64(1), object(3)\n",
      "memory usage: 14.4+ MB\n"
     ]
    },
    {
     "data": {
      "text/plain": [
       "None"
      ]
     },
     "metadata": {},
     "output_type": "display_data"
    }
   ],
   "source": [
    "display(events.query('event_name == \"purchase\"').info())\n",
    "display(events.query('event_name != \"purchase\"').info())"
   ]
  },
  {
   "cell_type": "markdown",
   "metadata": {},
   "source": [
    "Дополнительные данные есть только для продаж.\n",
    "\n",
    "Приведем даты к соотвутствующему типу:"
   ]
  },
  {
   "cell_type": "code",
   "execution_count": 6,
   "metadata": {},
   "outputs": [],
   "source": [
    "events['event_dt'] = pd.to_datetime(events['event_dt'])\n",
    "new_users['first_date'] = pd.to_datetime(new_users['first_date'])\n",
    "marketing['start_dt'] = pd.to_datetime(marketing['start_dt'])\n",
    "marketing['finish_dt'] = pd.to_datetime(marketing['finish_dt'])"
   ]
  },
  {
   "cell_type": "markdown",
   "metadata": {},
   "source": [
    "Проверим таблицы на наличие дубликатов:"
   ]
  },
  {
   "cell_type": "code",
   "execution_count": 7,
   "metadata": {},
   "outputs": [
    {
     "name": "stdout",
     "output_type": "stream",
     "text": [
      "Таблица участников тестов - \u001b[1m0 дубликатов\u001b[0;0m\n",
      "Действия новых пользователей в период с 7 декабря 2020 по 4 января 2021 года - \u001b[1m0 дубликатов\u001b[0;0m\n",
      "Пользователи, зарегистрировавшиеся с 7 по 21 декабря 2020 года - \u001b[1m0 дубликатов\u001b[0;0m\n",
      "Календарь маркетинговых событий на 2020 год - \u001b[1m0 дубликатов\u001b[0;0m\n"
     ]
    }
   ],
   "source": [
    "for t in tbls:\n",
    "    print(t.title, '-',  '\\033[1m' + '{} дубликатов'.format(t.duplicated().sum()) + '\\033[0;0m') "
   ]
  },
  {
   "cell_type": "markdown",
   "metadata": {},
   "source": [
    "Отлично!"
   ]
  },
  {
   "cell_type": "markdown",
   "metadata": {},
   "source": [
    "### Исследовательский анализ данных\n",
    "\n",
    "#### Изучение воронки событий\n",
    "\n",
    "[Вернуться в начало](#A/B-тестирование)"
   ]
  },
  {
   "cell_type": "code",
   "execution_count": 8,
   "metadata": {},
   "outputs": [
    {
     "data": {
      "text/html": [
       "<div>\n",
       "<style scoped>\n",
       "    .dataframe tbody tr th:only-of-type {\n",
       "        vertical-align: middle;\n",
       "    }\n",
       "\n",
       "    .dataframe tbody tr th {\n",
       "        vertical-align: top;\n",
       "    }\n",
       "\n",
       "    .dataframe thead th {\n",
       "        text-align: right;\n",
       "    }\n",
       "</style>\n",
       "<table border=\"1\" class=\"dataframe\">\n",
       "  <thead>\n",
       "    <tr style=\"text-align: right;\">\n",
       "      <th></th>\n",
       "      <th>user_id</th>\n",
       "      <th>event_dt</th>\n",
       "      <th>event_name</th>\n",
       "      <th>details</th>\n",
       "    </tr>\n",
       "  </thead>\n",
       "  <tbody>\n",
       "    <tr>\n",
       "      <td>0</td>\n",
       "      <td>E1BDDCE0DAFA2679</td>\n",
       "      <td>2020-12-07 20:22:03</td>\n",
       "      <td>purchase</td>\n",
       "      <td>99.99</td>\n",
       "    </tr>\n",
       "    <tr>\n",
       "      <td>1</td>\n",
       "      <td>7B6452F081F49504</td>\n",
       "      <td>2020-12-07 09:22:53</td>\n",
       "      <td>purchase</td>\n",
       "      <td>9.99</td>\n",
       "    </tr>\n",
       "    <tr>\n",
       "      <td>2</td>\n",
       "      <td>9CD9F34546DF254C</td>\n",
       "      <td>2020-12-07 12:59:29</td>\n",
       "      <td>purchase</td>\n",
       "      <td>4.99</td>\n",
       "    </tr>\n",
       "    <tr>\n",
       "      <td>3</td>\n",
       "      <td>96F27A054B191457</td>\n",
       "      <td>2020-12-07 04:02:40</td>\n",
       "      <td>purchase</td>\n",
       "      <td>4.99</td>\n",
       "    </tr>\n",
       "    <tr>\n",
       "      <td>4</td>\n",
       "      <td>1FD7660FDF94CA1F</td>\n",
       "      <td>2020-12-07 10:15:09</td>\n",
       "      <td>purchase</td>\n",
       "      <td>4.99</td>\n",
       "    </tr>\n",
       "  </tbody>\n",
       "</table>\n",
       "</div>"
      ],
      "text/plain": [
       "            user_id            event_dt event_name  details\n",
       "0  E1BDDCE0DAFA2679 2020-12-07 20:22:03   purchase    99.99\n",
       "1  7B6452F081F49504 2020-12-07 09:22:53   purchase     9.99\n",
       "2  9CD9F34546DF254C 2020-12-07 12:59:29   purchase     4.99\n",
       "3  96F27A054B191457 2020-12-07 04:02:40   purchase     4.99\n",
       "4  1FD7660FDF94CA1F 2020-12-07 10:15:09   purchase     4.99"
      ]
     },
     "execution_count": 8,
     "metadata": {},
     "output_type": "execute_result"
    }
   ],
   "source": [
    "events.head()"
   ]
  },
  {
   "cell_type": "markdown",
   "metadata": {},
   "source": [
    "Проверим временные рамки событий:"
   ]
  },
  {
   "cell_type": "code",
   "execution_count": 9,
   "metadata": {},
   "outputs": [
    {
     "data": {
      "text/html": [
       "<div>\n",
       "<style scoped>\n",
       "    .dataframe tbody tr th:only-of-type {\n",
       "        vertical-align: middle;\n",
       "    }\n",
       "\n",
       "    .dataframe tbody tr th {\n",
       "        vertical-align: top;\n",
       "    }\n",
       "\n",
       "    .dataframe thead th {\n",
       "        text-align: right;\n",
       "    }\n",
       "</style>\n",
       "<table border=\"1\" class=\"dataframe\">\n",
       "  <thead>\n",
       "    <tr style=\"text-align: right;\">\n",
       "      <th></th>\n",
       "      <th>event_dt</th>\n",
       "    </tr>\n",
       "  </thead>\n",
       "  <tbody>\n",
       "    <tr>\n",
       "      <td>count</td>\n",
       "      <td>440317</td>\n",
       "    </tr>\n",
       "    <tr>\n",
       "      <td>unique</td>\n",
       "      <td>267268</td>\n",
       "    </tr>\n",
       "    <tr>\n",
       "      <td>top</td>\n",
       "      <td>2020-12-23 02:37:24</td>\n",
       "    </tr>\n",
       "    <tr>\n",
       "      <td>freq</td>\n",
       "      <td>10</td>\n",
       "    </tr>\n",
       "    <tr>\n",
       "      <td>first</td>\n",
       "      <td>2020-12-07 00:00:33</td>\n",
       "    </tr>\n",
       "    <tr>\n",
       "      <td>last</td>\n",
       "      <td>2020-12-30 23:36:33</td>\n",
       "    </tr>\n",
       "  </tbody>\n",
       "</table>\n",
       "</div>"
      ],
      "text/plain": [
       "                   event_dt\n",
       "count                440317\n",
       "unique               267268\n",
       "top     2020-12-23 02:37:24\n",
       "freq                     10\n",
       "first   2020-12-07 00:00:33\n",
       "last    2020-12-30 23:36:33"
      ]
     },
     "execution_count": 9,
     "metadata": {},
     "output_type": "execute_result"
    }
   ],
   "source": [
    "events['event_dt'].describe().to_frame()"
   ]
  },
  {
   "cell_type": "markdown",
   "metadata": {},
   "source": [
    "Последняя дата - 30 декабря, *не хватает 5 дней, согласно ТЗ*."
   ]
  },
  {
   "cell_type": "markdown",
   "metadata": {},
   "source": [
    "Посчитаем воронку событий:"
   ]
  },
  {
   "cell_type": "code",
   "execution_count": 10,
   "metadata": {},
   "outputs": [
    {
     "data": {
      "text/html": [
       "<style  type=\"text/css\" >\n",
       "    #T_19869ed4_8c14_11eb_a992_02420a39ff0arow0_col1 {\n",
       "            width:  10em;\n",
       "             height:  80%;\n",
       "            background:  linear-gradient(90deg,#c6e2ff 100.0%, transparent 100.0%);\n",
       "        }    #T_19869ed4_8c14_11eb_a992_02420a39ff0arow1_col1 {\n",
       "            width:  10em;\n",
       "             height:  80%;\n",
       "            background:  linear-gradient(90deg,#c6e2ff 66.3%, transparent 66.3%);\n",
       "        }    #T_19869ed4_8c14_11eb_a992_02420a39ff0arow2_col1 {\n",
       "            width:  10em;\n",
       "             height:  80%;\n",
       "            background:  linear-gradient(90deg,#c6e2ff 33.3%, transparent 33.3%);\n",
       "        }    #T_19869ed4_8c14_11eb_a992_02420a39ff0arow3_col1 {\n",
       "            width:  10em;\n",
       "             height:  80%;\n",
       "            background:  linear-gradient(90deg,#c6e2ff 32.9%, transparent 32.9%);\n",
       "        }</style><table id=\"T_19869ed4_8c14_11eb_a992_02420a39ff0a\" ><thead>    <tr>        <th class=\"blank level0\" ></th>        <th class=\"col_heading level0 col0\" >event_name</th>        <th class=\"col_heading level0 col1\" >user_id</th>        <th class=\"col_heading level0 col2\" >event_conversion</th>    </tr></thead><tbody>\n",
       "                <tr>\n",
       "                        <th id=\"T_19869ed4_8c14_11eb_a992_02420a39ff0alevel0_row0\" class=\"row_heading level0 row0\" >0</th>\n",
       "                        <td id=\"T_19869ed4_8c14_11eb_a992_02420a39ff0arow0_col0\" class=\"data row0 col0\" >login</td>\n",
       "                        <td id=\"T_19869ed4_8c14_11eb_a992_02420a39ff0arow0_col1\" class=\"data row0 col1\" >58697</td>\n",
       "                        <td id=\"T_19869ed4_8c14_11eb_a992_02420a39ff0arow0_col2\" class=\"data row0 col2\" >1</td>\n",
       "            </tr>\n",
       "            <tr>\n",
       "                        <th id=\"T_19869ed4_8c14_11eb_a992_02420a39ff0alevel0_row1\" class=\"row_heading level0 row1\" >2</th>\n",
       "                        <td id=\"T_19869ed4_8c14_11eb_a992_02420a39ff0arow1_col0\" class=\"data row1 col0\" >product_page</td>\n",
       "                        <td id=\"T_19869ed4_8c14_11eb_a992_02420a39ff0arow1_col1\" class=\"data row1 col1\" >38929</td>\n",
       "                        <td id=\"T_19869ed4_8c14_11eb_a992_02420a39ff0arow1_col2\" class=\"data row1 col2\" >0.66322</td>\n",
       "            </tr>\n",
       "            <tr>\n",
       "                        <th id=\"T_19869ed4_8c14_11eb_a992_02420a39ff0alevel0_row2\" class=\"row_heading level0 row2\" >3</th>\n",
       "                        <td id=\"T_19869ed4_8c14_11eb_a992_02420a39ff0arow2_col0\" class=\"data row2 col0\" >purchase</td>\n",
       "                        <td id=\"T_19869ed4_8c14_11eb_a992_02420a39ff0arow2_col1\" class=\"data row2 col1\" >19569</td>\n",
       "                        <td id=\"T_19869ed4_8c14_11eb_a992_02420a39ff0arow2_col2\" class=\"data row2 col2\" >0.502684</td>\n",
       "            </tr>\n",
       "            <tr>\n",
       "                        <th id=\"T_19869ed4_8c14_11eb_a992_02420a39ff0alevel0_row3\" class=\"row_heading level0 row3\" >1</th>\n",
       "                        <td id=\"T_19869ed4_8c14_11eb_a992_02420a39ff0arow3_col0\" class=\"data row3 col0\" >product_cart</td>\n",
       "                        <td id=\"T_19869ed4_8c14_11eb_a992_02420a39ff0arow3_col1\" class=\"data row3 col1\" >19284</td>\n",
       "                        <td id=\"T_19869ed4_8c14_11eb_a992_02420a39ff0arow3_col2\" class=\"data row3 col2\" >0.985436</td>\n",
       "            </tr>\n",
       "    </tbody></table>"
      ],
      "text/plain": [
       "<pandas.io.formats.style.Styler at 0x7f8580cd6350>"
      ]
     },
     "execution_count": 10,
     "metadata": {},
     "output_type": "execute_result"
    }
   ],
   "source": [
    "funnel = events.groupby('event_name')['user_id'].nunique().reset_index().sort_values('user_id', ascending=False)\n",
    "\n",
    "funnel['event_conversion'] = funnel['user_id'].shift(1, fill_value=funnel.loc[0, 'user_id']) # заполняется числом\n",
    "funnel['event_conversion'] = funnel['user_id'] / funnel['event_conversion']                  # пользователей со страницы логина\n",
    "\n",
    "funnel.style.bar(subset='user_id', align='mid', color='#c6e2ff')"
   ]
  },
  {
   "cell_type": "markdown",
   "metadata": {},
   "source": [
    "Видим, что наибольшее количиство пользователей отсеивается при переходе на страницу с карточками товаров и на страницу покупки.\n",
    "Также отмечаем, что покупок больше, чем просмотров корзины. Это могло произойти из-за покупки в один клик.\n",
    "\n",
    "Однако это воронка для всех пользователей обоих тестов, проделаем то же самое только для теста `recommender_system_test`:"
   ]
  },
  {
   "cell_type": "code",
   "execution_count": 11,
   "metadata": {},
   "outputs": [],
   "source": [
    "recom_test_participants = participants.query('ab_test == \"recommender_system_test\"')\n",
    "recom_id = recom_test_participants['user_id'].unique()\n",
    "recom_test_events = events.query('user_id.isin(@recom_id)')"
   ]
  },
  {
   "cell_type": "code",
   "execution_count": 12,
   "metadata": {},
   "outputs": [
    {
     "data": {
      "text/html": [
       "<style  type=\"text/css\" >\n",
       "    #T_1995ce36_8c14_11eb_a992_02420a39ff0arow0_col1 {\n",
       "            width:  10em;\n",
       "             height:  80%;\n",
       "            background:  linear-gradient(90deg,#c6e2ff 100.0%, transparent 100.0%);\n",
       "        }    #T_1995ce36_8c14_11eb_a992_02420a39ff0arow1_col1 {\n",
       "            width:  10em;\n",
       "             height:  80%;\n",
       "            background:  linear-gradient(90deg,#c6e2ff 62.7%, transparent 62.7%);\n",
       "        }    #T_1995ce36_8c14_11eb_a992_02420a39ff0arow2_col1 {\n",
       "            width:  10em;\n",
       "             height:  80%;\n",
       "            background:  linear-gradient(90deg,#c6e2ff 30.7%, transparent 30.7%);\n",
       "        }    #T_1995ce36_8c14_11eb_a992_02420a39ff0arow3_col1 {\n",
       "            width:  10em;\n",
       "             height:  80%;\n",
       "            background:  linear-gradient(90deg,#c6e2ff 29.4%, transparent 29.4%);\n",
       "        }</style><table id=\"T_1995ce36_8c14_11eb_a992_02420a39ff0a\" ><thead>    <tr>        <th class=\"blank level0\" ></th>        <th class=\"col_heading level0 col0\" >event_name</th>        <th class=\"col_heading level0 col1\" >user_id</th>        <th class=\"col_heading level0 col2\" >event_conversion</th>    </tr></thead><tbody>\n",
       "                <tr>\n",
       "                        <th id=\"T_1995ce36_8c14_11eb_a992_02420a39ff0alevel0_row0\" class=\"row_heading level0 row0\" >0</th>\n",
       "                        <td id=\"T_1995ce36_8c14_11eb_a992_02420a39ff0arow0_col0\" class=\"data row0 col0\" >login</td>\n",
       "                        <td id=\"T_1995ce36_8c14_11eb_a992_02420a39ff0arow0_col1\" class=\"data row0 col1\" >3675</td>\n",
       "                        <td id=\"T_1995ce36_8c14_11eb_a992_02420a39ff0arow0_col2\" class=\"data row0 col2\" >1</td>\n",
       "            </tr>\n",
       "            <tr>\n",
       "                        <th id=\"T_1995ce36_8c14_11eb_a992_02420a39ff0alevel0_row1\" class=\"row_heading level0 row1\" >2</th>\n",
       "                        <td id=\"T_1995ce36_8c14_11eb_a992_02420a39ff0arow1_col0\" class=\"data row1 col0\" >product_page</td>\n",
       "                        <td id=\"T_1995ce36_8c14_11eb_a992_02420a39ff0arow1_col1\" class=\"data row1 col1\" >2303</td>\n",
       "                        <td id=\"T_1995ce36_8c14_11eb_a992_02420a39ff0arow1_col2\" class=\"data row1 col2\" >0.626667</td>\n",
       "            </tr>\n",
       "            <tr>\n",
       "                        <th id=\"T_1995ce36_8c14_11eb_a992_02420a39ff0alevel0_row2\" class=\"row_heading level0 row2\" >3</th>\n",
       "                        <td id=\"T_1995ce36_8c14_11eb_a992_02420a39ff0arow2_col0\" class=\"data row2 col0\" >purchase</td>\n",
       "                        <td id=\"T_1995ce36_8c14_11eb_a992_02420a39ff0arow2_col1\" class=\"data row2 col1\" >1128</td>\n",
       "                        <td id=\"T_1995ce36_8c14_11eb_a992_02420a39ff0arow2_col2\" class=\"data row2 col2\" >0.489796</td>\n",
       "            </tr>\n",
       "            <tr>\n",
       "                        <th id=\"T_1995ce36_8c14_11eb_a992_02420a39ff0alevel0_row3\" class=\"row_heading level0 row3\" >1</th>\n",
       "                        <td id=\"T_1995ce36_8c14_11eb_a992_02420a39ff0arow3_col0\" class=\"data row3 col0\" >product_cart</td>\n",
       "                        <td id=\"T_1995ce36_8c14_11eb_a992_02420a39ff0arow3_col1\" class=\"data row3 col1\" >1079</td>\n",
       "                        <td id=\"T_1995ce36_8c14_11eb_a992_02420a39ff0arow3_col2\" class=\"data row3 col2\" >0.95656</td>\n",
       "            </tr>\n",
       "    </tbody></table>"
      ],
      "text/plain": [
       "<pandas.io.formats.style.Styler at 0x7f8580cd6d10>"
      ]
     },
     "execution_count": 12,
     "metadata": {},
     "output_type": "execute_result"
    }
   ],
   "source": [
    "funnel_recom = recom_test_events.groupby('event_name')['user_id'].nunique().reset_index().sort_values('user_id', ascending=False)\n",
    "\n",
    "funnel_recom['event_conversion'] = funnel_recom['user_id'].shift(1, fill_value=funnel_recom.loc[0, 'user_id'])\n",
    "funnel_recom['event_conversion'] = funnel_recom['user_id'] / funnel_recom['event_conversion']                 \n",
    "\n",
    "funnel_recom.style.bar(subset='user_id', align='mid', color='#c6e2ff')"
   ]
  },
  {
   "cell_type": "markdown",
   "metadata": {},
   "source": [
    "Теперь построим воронку для каждой группытеста в отдельности:"
   ]
  },
  {
   "cell_type": "code",
   "execution_count": 13,
   "metadata": {},
   "outputs": [],
   "source": [
    "# выборки\n",
    "a_participants = recom_test_participants.query('group == \"A\"')\n",
    "b_participants = recom_test_participants.query('group == \"B\"')\n",
    "\n",
    "# списки уникальных id\n",
    "a_unique = a_participants['user_id'].unique()\n",
    "b_unique = b_participants['user_id'].unique()"
   ]
  },
  {
   "cell_type": "code",
   "execution_count": 14,
   "metadata": {},
   "outputs": [
    {
     "data": {
      "text/html": [
       "<style  type=\"text/css\" >\n",
       "    #T_19a2fbb0_8c14_11eb_a992_02420a39ff0arow0_col1 {\n",
       "            width:  10em;\n",
       "             height:  80%;\n",
       "            background:  linear-gradient(90deg,#c6e2ff 100.0%, transparent 100.0%);\n",
       "        }    #T_19a2fbb0_8c14_11eb_a992_02420a39ff0arow1_col1 {\n",
       "            width:  10em;\n",
       "             height:  80%;\n",
       "            background:  linear-gradient(90deg,#c6e2ff 64.8%, transparent 64.8%);\n",
       "        }    #T_19a2fbb0_8c14_11eb_a992_02420a39ff0arow2_col1 {\n",
       "            width:  10em;\n",
       "             height:  80%;\n",
       "            background:  linear-gradient(90deg,#c6e2ff 31.7%, transparent 31.7%);\n",
       "        }    #T_19a2fbb0_8c14_11eb_a992_02420a39ff0arow3_col1 {\n",
       "            width:  10em;\n",
       "             height:  80%;\n",
       "            background:  linear-gradient(90deg,#c6e2ff 30.0%, transparent 30.0%);\n",
       "        }</style><table id=\"T_19a2fbb0_8c14_11eb_a992_02420a39ff0a\" ><thead>    <tr>        <th class=\"blank level0\" ></th>        <th class=\"col_heading level0 col0\" >event_name</th>        <th class=\"col_heading level0 col1\" >user_id</th>        <th class=\"col_heading level0 col2\" >event_conversion</th>    </tr></thead><tbody>\n",
       "                <tr>\n",
       "                        <th id=\"T_19a2fbb0_8c14_11eb_a992_02420a39ff0alevel0_row0\" class=\"row_heading level0 row0\" >0</th>\n",
       "                        <td id=\"T_19a2fbb0_8c14_11eb_a992_02420a39ff0arow0_col0\" class=\"data row0 col0\" >login</td>\n",
       "                        <td id=\"T_19a2fbb0_8c14_11eb_a992_02420a39ff0arow0_col1\" class=\"data row0 col1\" >2747</td>\n",
       "                        <td id=\"T_19a2fbb0_8c14_11eb_a992_02420a39ff0arow0_col2\" class=\"data row0 col2\" >1</td>\n",
       "            </tr>\n",
       "            <tr>\n",
       "                        <th id=\"T_19a2fbb0_8c14_11eb_a992_02420a39ff0alevel0_row1\" class=\"row_heading level0 row1\" >2</th>\n",
       "                        <td id=\"T_19a2fbb0_8c14_11eb_a992_02420a39ff0arow1_col0\" class=\"data row1 col0\" >product_page</td>\n",
       "                        <td id=\"T_19a2fbb0_8c14_11eb_a992_02420a39ff0arow1_col1\" class=\"data row1 col1\" >1780</td>\n",
       "                        <td id=\"T_19a2fbb0_8c14_11eb_a992_02420a39ff0arow1_col2\" class=\"data row1 col2\" >0.64798</td>\n",
       "            </tr>\n",
       "            <tr>\n",
       "                        <th id=\"T_19a2fbb0_8c14_11eb_a992_02420a39ff0alevel0_row2\" class=\"row_heading level0 row2\" >3</th>\n",
       "                        <td id=\"T_19a2fbb0_8c14_11eb_a992_02420a39ff0arow2_col0\" class=\"data row2 col0\" >purchase</td>\n",
       "                        <td id=\"T_19a2fbb0_8c14_11eb_a992_02420a39ff0arow2_col1\" class=\"data row2 col1\" >872</td>\n",
       "                        <td id=\"T_19a2fbb0_8c14_11eb_a992_02420a39ff0arow2_col2\" class=\"data row2 col2\" >0.489888</td>\n",
       "            </tr>\n",
       "            <tr>\n",
       "                        <th id=\"T_19a2fbb0_8c14_11eb_a992_02420a39ff0alevel0_row3\" class=\"row_heading level0 row3\" >1</th>\n",
       "                        <td id=\"T_19a2fbb0_8c14_11eb_a992_02420a39ff0arow3_col0\" class=\"data row3 col0\" >product_cart</td>\n",
       "                        <td id=\"T_19a2fbb0_8c14_11eb_a992_02420a39ff0arow3_col1\" class=\"data row3 col1\" >824</td>\n",
       "                        <td id=\"T_19a2fbb0_8c14_11eb_a992_02420a39ff0arow3_col2\" class=\"data row3 col2\" >0.944954</td>\n",
       "            </tr>\n",
       "    </tbody></table>"
      ],
      "text/plain": [
       "<pandas.io.formats.style.Styler at 0x7f8580fa47d0>"
      ]
     },
     "execution_count": 14,
     "metadata": {},
     "output_type": "execute_result"
    }
   ],
   "source": [
    "funnel_a = events.query('user_id.isin(@a_unique)').groupby('event_name')['user_id'].nunique().reset_index()\\\n",
    ".sort_values('user_id', ascending=False)\n",
    "\n",
    "funnel_a['event_conversion'] = funnel_a['user_id'].shift(1, fill_value=funnel_a.loc[0, 'user_id']) \n",
    "funnel_a['event_conversion'] = funnel_a['user_id'] / funnel_a['event_conversion']     \n",
    "\n",
    "funnel_a.style.bar(subset='user_id', align='mid', color='#c6e2ff')"
   ]
  },
  {
   "cell_type": "code",
   "execution_count": 15,
   "metadata": {},
   "outputs": [
    {
     "data": {
      "text/html": [
       "<style  type=\"text/css\" >\n",
       "    #T_19ab1818_8c14_11eb_a992_02420a39ff0arow0_col1 {\n",
       "            width:  10em;\n",
       "             height:  80%;\n",
       "            background:  linear-gradient(90deg,#c6e2ff 100.0%, transparent 100.0%);\n",
       "        }    #T_19ab1818_8c14_11eb_a992_02420a39ff0arow1_col1 {\n",
       "            width:  10em;\n",
       "             height:  80%;\n",
       "            background:  linear-gradient(90deg,#c6e2ff 56.4%, transparent 56.4%);\n",
       "        }    #T_19ab1818_8c14_11eb_a992_02420a39ff0arow2_col1 {\n",
       "            width:  10em;\n",
       "             height:  80%;\n",
       "            background:  linear-gradient(90deg,#c6e2ff 27.6%, transparent 27.6%);\n",
       "        }    #T_19ab1818_8c14_11eb_a992_02420a39ff0arow3_col1 {\n",
       "            width:  10em;\n",
       "             height:  80%;\n",
       "            background:  linear-gradient(90deg,#c6e2ff 27.5%, transparent 27.5%);\n",
       "        }</style><table id=\"T_19ab1818_8c14_11eb_a992_02420a39ff0a\" ><thead>    <tr>        <th class=\"blank level0\" ></th>        <th class=\"col_heading level0 col0\" >event_name</th>        <th class=\"col_heading level0 col1\" >user_id</th>        <th class=\"col_heading level0 col2\" >event_conversion</th>    </tr></thead><tbody>\n",
       "                <tr>\n",
       "                        <th id=\"T_19ab1818_8c14_11eb_a992_02420a39ff0alevel0_row0\" class=\"row_heading level0 row0\" >0</th>\n",
       "                        <td id=\"T_19ab1818_8c14_11eb_a992_02420a39ff0arow0_col0\" class=\"data row0 col0\" >login</td>\n",
       "                        <td id=\"T_19ab1818_8c14_11eb_a992_02420a39ff0arow0_col1\" class=\"data row0 col1\" >928</td>\n",
       "                        <td id=\"T_19ab1818_8c14_11eb_a992_02420a39ff0arow0_col2\" class=\"data row0 col2\" >1</td>\n",
       "            </tr>\n",
       "            <tr>\n",
       "                        <th id=\"T_19ab1818_8c14_11eb_a992_02420a39ff0alevel0_row1\" class=\"row_heading level0 row1\" >2</th>\n",
       "                        <td id=\"T_19ab1818_8c14_11eb_a992_02420a39ff0arow1_col0\" class=\"data row1 col0\" >product_page</td>\n",
       "                        <td id=\"T_19ab1818_8c14_11eb_a992_02420a39ff0arow1_col1\" class=\"data row1 col1\" >523</td>\n",
       "                        <td id=\"T_19ab1818_8c14_11eb_a992_02420a39ff0arow1_col2\" class=\"data row1 col2\" >0.563578</td>\n",
       "            </tr>\n",
       "            <tr>\n",
       "                        <th id=\"T_19ab1818_8c14_11eb_a992_02420a39ff0alevel0_row2\" class=\"row_heading level0 row2\" >3</th>\n",
       "                        <td id=\"T_19ab1818_8c14_11eb_a992_02420a39ff0arow2_col0\" class=\"data row2 col0\" >purchase</td>\n",
       "                        <td id=\"T_19ab1818_8c14_11eb_a992_02420a39ff0arow2_col1\" class=\"data row2 col1\" >256</td>\n",
       "                        <td id=\"T_19ab1818_8c14_11eb_a992_02420a39ff0arow2_col2\" class=\"data row2 col2\" >0.489484</td>\n",
       "            </tr>\n",
       "            <tr>\n",
       "                        <th id=\"T_19ab1818_8c14_11eb_a992_02420a39ff0alevel0_row3\" class=\"row_heading level0 row3\" >1</th>\n",
       "                        <td id=\"T_19ab1818_8c14_11eb_a992_02420a39ff0arow3_col0\" class=\"data row3 col0\" >product_cart</td>\n",
       "                        <td id=\"T_19ab1818_8c14_11eb_a992_02420a39ff0arow3_col1\" class=\"data row3 col1\" >255</td>\n",
       "                        <td id=\"T_19ab1818_8c14_11eb_a992_02420a39ff0arow3_col2\" class=\"data row3 col2\" >0.996094</td>\n",
       "            </tr>\n",
       "    </tbody></table>"
      ],
      "text/plain": [
       "<pandas.io.formats.style.Styler at 0x7f858099d0d0>"
      ]
     },
     "execution_count": 15,
     "metadata": {},
     "output_type": "execute_result"
    }
   ],
   "source": [
    "funnel_b = events.query('user_id.isin(@b_unique)').groupby('event_name')['user_id'].nunique().reset_index()\\\n",
    ".sort_values('user_id', ascending=False)\n",
    "\n",
    "funnel_b['event_conversion'] = funnel_b['user_id'].shift(1, fill_value=funnel_b.loc[0, 'user_id']) \n",
    "funnel_b['event_conversion'] = funnel_b['user_id'] / funnel_b['event_conversion'] \n",
    "\n",
    "funnel_b.style.bar(subset='user_id', align='mid', color='#c6e2ff')"
   ]
  },
  {
   "cell_type": "markdown",
   "metadata": {},
   "source": [
    "Видим, что количество покупок больше количества просмотров корзины только для группы А, соответствующей старой платежной воронке."
   ]
  },
  {
   "cell_type": "markdown",
   "metadata": {},
   "source": [
    "#### Проверка распределения количества событий в выборках\n",
    "\n",
    "[Вернуться в начало](#A/B-тестирование)"
   ]
  },
  {
   "cell_type": "markdown",
   "metadata": {},
   "source": [
    "Узнаем, одинаково ли распределены количество событий на пользователя в выборках:"
   ]
  },
  {
   "cell_type": "code",
   "execution_count": 16,
   "metadata": {},
   "outputs": [],
   "source": [
    "a_events = events.query('user_id.isin(@a_unique)')\n",
    "b_events = events.query('user_id.isin(@b_unique)')"
   ]
  },
  {
   "cell_type": "code",
   "execution_count": 17,
   "metadata": {
    "scrolled": true
   },
   "outputs": [
    {
     "data": {
      "image/png": "[encoded data removed]",
      "text/plain": [
       "<Figure size 576x360 with 1 Axes>"
      ]
     },
     "metadata": {
      "image/png": {
       "height": 332,
       "width": 487
      }
     },
     "output_type": "display_data"
    }
   ],
   "source": [
    "sns.set_style(\"darkgrid\")\n",
    "\n",
    "fig, ax = plt.subplots(figsize=(8,5))\n",
    "\n",
    "sns.distplot(a_events.groupby('user_id')['event_name'].count(), kde=False, ax=ax)\n",
    "sns.distplot(b_events.groupby('user_id')['event_name'].count(), kde=False, ax=ax)\n",
    "ax.set_title(\"Гистограмма количества событий на пользователя\")\n",
    "ax.legend(labels=['Группа А', 'Группа В'])\n",
    "  \n",
    "plt.show()"
   ]
  },
  {
   "cell_type": "markdown",
   "metadata": {},
   "source": [
    "Видим, что количество событий на пользователяв выборках распределены примерно одинаково."
   ]
  },
  {
   "cell_type": "markdown",
   "metadata": {},
   "source": [
    "Проверим, попали ли одни и те же пользователи в разные группы тестах:"
   ]
  },
  {
   "cell_type": "code",
   "execution_count": 18,
   "metadata": {},
   "outputs": [
    {
     "name": "stdout",
     "output_type": "stream",
     "text": [
      "0\n"
     ]
    }
   ],
   "source": [
    "groups_by_user_recom = recom_test_participants.groupby('user_id')['group'].count().reset_index()\n",
    "print(len(groups_by_user_recom.query('group > 1')))"
   ]
  },
  {
   "cell_type": "code",
   "execution_count": 19,
   "metadata": {},
   "outputs": [
    {
     "name": "stdout",
     "output_type": "stream",
     "text": [
      "0\n"
     ]
    }
   ],
   "source": [
    "interface_test_participants = participants.query('ab_test == \"interface_eu_test\"')\n",
    "\n",
    "groups_by_user_interface = interface_test_participants.groupby('user_id')['group'].count().reset_index()\n",
    "print(len(groups_by_user_interface.query('group > 1')))"
   ]
  },
  {
   "cell_type": "markdown",
   "metadata": {},
   "source": [
    "Отлично, внутри каждого теста пересечений по группам нет."
   ]
  },
  {
   "cell_type": "markdown",
   "metadata": {},
   "source": [
    "#### Изучение распределения количества событий по дням\n",
    "\n",
    "[Вернуться в начало](#A/B-тестирование)"
   ]
  },
  {
   "cell_type": "markdown",
   "metadata": {},
   "source": [
    "Создадим столбец с датой и посчитаем количество событий в день:"
   ]
  },
  {
   "cell_type": "code",
   "execution_count": 20,
   "metadata": {},
   "outputs": [],
   "source": [
    "events['date'] = events['event_dt'].dt.date\n",
    "\n",
    "events_by_date = events.groupby('date')['event_name'].count().reset_index()"
   ]
  },
  {
   "cell_type": "markdown",
   "metadata": {},
   "source": [
    "Построим график:"
   ]
  },
  {
   "cell_type": "code",
   "execution_count": 21,
   "metadata": {},
   "outputs": [
    {
     "data": {
      "image/png": "[encoded data removed]",
      "text/plain": [
       "<Figure size 1152x360 with 1 Axes>"
      ]
     },
     "metadata": {
      "image/png": {
       "height": 331,
       "width": 959
      }
     },
     "output_type": "display_data"
    }
   ],
   "source": [
    "fig, ax = plt.subplots(figsize=(16,5))\n",
    "\n",
    "sns.lineplot(data=events_by_date, x=\"date\", y=\"event_name\", ax=ax)\n",
    "ax.set_title(\"Количество событий по дням\")\n",
    "  \n",
    "plt.show()"
   ]
  },
  {
   "cell_type": "markdown",
   "metadata": {},
   "source": [
    "Видим два ярко выраженных пика. Причиной тому может быть сезонность или пересечение с маркетинговыми событиями."
   ]
  },
  {
   "cell_type": "markdown",
   "metadata": {},
   "source": [
    "### Оценка корректности проведения теста\n",
    "\n",
    "#### Проверка пересечения тестовой аудитории с конкурирующим тестом\n",
    "\n",
    "[Вернуться в начало](#A/B-тестирование)"
   ]
  },
  {
   "cell_type": "markdown",
   "metadata": {},
   "source": [
    "Узнаем, есть ли пересечения тестовой аудитории с конкурирующим тестом:"
   ]
  },
  {
   "cell_type": "code",
   "execution_count": 22,
   "metadata": {},
   "outputs": [
    {
     "name": "stdout",
     "output_type": "stream",
     "text": [
      "1602 пользователя участвовали в двух тестах\n"
     ]
    }
   ],
   "source": [
    "tests_by_user = participants.groupby('user_id')['ab_test'].nunique().reset_index()\n",
    "\n",
    "print(len(tests_by_user.query('ab_test > 1')), 'пользователя участвовали в двух тестах')"
   ]
  },
  {
   "cell_type": "markdown",
   "metadata": {},
   "source": [
    "Узнаем долю пересечений:"
   ]
  },
  {
   "cell_type": "code",
   "execution_count": 23,
   "metadata": {},
   "outputs": [
    {
     "name": "stdout",
     "output_type": "stream",
     "text": [
      "9.61%\n"
     ]
    }
   ],
   "source": [
    "print('{:.2%}'.format(len(tests_by_user.query('ab_test > 1')) / participants['user_id'].nunique()))"
   ]
  },
  {
   "cell_type": "markdown",
   "metadata": {},
   "source": [
    "Почти 10% пользователей поучавствовали в двух тестах."
   ]
  },
  {
   "cell_type": "markdown",
   "metadata": {},
   "source": [
    "#### Проверка временных границ теста\n",
    "\n",
    "[Вернуться в начало](#A/B-тестирование)"
   ]
  },
  {
   "cell_type": "code",
   "execution_count": 24,
   "metadata": {},
   "outputs": [
    {
     "data": {
      "text/html": [
       "<div>\n",
       "<style scoped>\n",
       "    .dataframe tbody tr th:only-of-type {\n",
       "        vertical-align: middle;\n",
       "    }\n",
       "\n",
       "    .dataframe tbody tr th {\n",
       "        vertical-align: top;\n",
       "    }\n",
       "\n",
       "    .dataframe thead th {\n",
       "        text-align: right;\n",
       "    }\n",
       "</style>\n",
       "<table border=\"1\" class=\"dataframe\">\n",
       "  <thead>\n",
       "    <tr style=\"text-align: right;\">\n",
       "      <th></th>\n",
       "      <th>name</th>\n",
       "      <th>regions</th>\n",
       "      <th>start_dt</th>\n",
       "      <th>finish_dt</th>\n",
       "    </tr>\n",
       "  </thead>\n",
       "  <tbody>\n",
       "    <tr>\n",
       "      <td>0</td>\n",
       "      <td>Christmas&amp;New Year Promo</td>\n",
       "      <td>EU, N.America</td>\n",
       "      <td>2020-12-25</td>\n",
       "      <td>2021-01-03</td>\n",
       "    </tr>\n",
       "    <tr>\n",
       "      <td>1</td>\n",
       "      <td>St. Valentine's Day Giveaway</td>\n",
       "      <td>EU, CIS, APAC, N.America</td>\n",
       "      <td>2020-02-14</td>\n",
       "      <td>2020-02-16</td>\n",
       "    </tr>\n",
       "    <tr>\n",
       "      <td>2</td>\n",
       "      <td>St. Patric's Day Promo</td>\n",
       "      <td>EU, N.America</td>\n",
       "      <td>2020-03-17</td>\n",
       "      <td>2020-03-19</td>\n",
       "    </tr>\n",
       "    <tr>\n",
       "      <td>3</td>\n",
       "      <td>Easter Promo</td>\n",
       "      <td>EU, CIS, APAC, N.America</td>\n",
       "      <td>2020-04-12</td>\n",
       "      <td>2020-04-19</td>\n",
       "    </tr>\n",
       "    <tr>\n",
       "      <td>4</td>\n",
       "      <td>4th of July Promo</td>\n",
       "      <td>N.America</td>\n",
       "      <td>2020-07-04</td>\n",
       "      <td>2020-07-11</td>\n",
       "    </tr>\n",
       "    <tr>\n",
       "      <td>5</td>\n",
       "      <td>Black Friday Ads Campaign</td>\n",
       "      <td>EU, CIS, APAC, N.America</td>\n",
       "      <td>2020-11-26</td>\n",
       "      <td>2020-12-01</td>\n",
       "    </tr>\n",
       "    <tr>\n",
       "      <td>6</td>\n",
       "      <td>Chinese New Year Promo</td>\n",
       "      <td>APAC</td>\n",
       "      <td>2020-01-25</td>\n",
       "      <td>2020-02-07</td>\n",
       "    </tr>\n",
       "    <tr>\n",
       "      <td>7</td>\n",
       "      <td>Labor day (May 1st) Ads Campaign</td>\n",
       "      <td>EU, CIS, APAC</td>\n",
       "      <td>2020-05-01</td>\n",
       "      <td>2020-05-03</td>\n",
       "    </tr>\n",
       "    <tr>\n",
       "      <td>8</td>\n",
       "      <td>International Women's Day Promo</td>\n",
       "      <td>EU, CIS, APAC</td>\n",
       "      <td>2020-03-08</td>\n",
       "      <td>2020-03-10</td>\n",
       "    </tr>\n",
       "    <tr>\n",
       "      <td>9</td>\n",
       "      <td>Victory Day CIS (May 9th) Event</td>\n",
       "      <td>CIS</td>\n",
       "      <td>2020-05-09</td>\n",
       "      <td>2020-05-11</td>\n",
       "    </tr>\n",
       "    <tr>\n",
       "      <td>10</td>\n",
       "      <td>CIS New Year Gift Lottery</td>\n",
       "      <td>CIS</td>\n",
       "      <td>2020-12-30</td>\n",
       "      <td>2021-01-07</td>\n",
       "    </tr>\n",
       "    <tr>\n",
       "      <td>11</td>\n",
       "      <td>Dragon Boat Festival Giveaway</td>\n",
       "      <td>APAC</td>\n",
       "      <td>2020-06-25</td>\n",
       "      <td>2020-07-01</td>\n",
       "    </tr>\n",
       "    <tr>\n",
       "      <td>12</td>\n",
       "      <td>Single's Day Gift Promo</td>\n",
       "      <td>APAC</td>\n",
       "      <td>2020-11-11</td>\n",
       "      <td>2020-11-12</td>\n",
       "    </tr>\n",
       "    <tr>\n",
       "      <td>13</td>\n",
       "      <td>Chinese Moon Festival</td>\n",
       "      <td>APAC</td>\n",
       "      <td>2020-10-01</td>\n",
       "      <td>2020-10-07</td>\n",
       "    </tr>\n",
       "  </tbody>\n",
       "</table>\n",
       "</div>"
      ],
      "text/plain": [
       "                                name                   regions   start_dt  \\\n",
       "0           Christmas&New Year Promo             EU, N.America 2020-12-25   \n",
       "1       St. Valentine's Day Giveaway  EU, CIS, APAC, N.America 2020-02-14   \n",
       "2             St. Patric's Day Promo             EU, N.America 2020-03-17   \n",
       "3                       Easter Promo  EU, CIS, APAC, N.America 2020-04-12   \n",
       "4                  4th of July Promo                 N.America 2020-07-04   \n",
       "5          Black Friday Ads Campaign  EU, CIS, APAC, N.America 2020-11-26   \n",
       "6             Chinese New Year Promo                      APAC 2020-01-25   \n",
       "7   Labor day (May 1st) Ads Campaign             EU, CIS, APAC 2020-05-01   \n",
       "8    International Women's Day Promo             EU, CIS, APAC 2020-03-08   \n",
       "9    Victory Day CIS (May 9th) Event                       CIS 2020-05-09   \n",
       "10         CIS New Year Gift Lottery                       CIS 2020-12-30   \n",
       "11     Dragon Boat Festival Giveaway                      APAC 2020-06-25   \n",
       "12           Single's Day Gift Promo                      APAC 2020-11-11   \n",
       "13             Chinese Moon Festival                      APAC 2020-10-01   \n",
       "\n",
       "    finish_dt  \n",
       "0  2021-01-03  \n",
       "1  2020-02-16  \n",
       "2  2020-03-19  \n",
       "3  2020-04-19  \n",
       "4  2020-07-11  \n",
       "5  2020-12-01  \n",
       "6  2020-02-07  \n",
       "7  2020-05-03  \n",
       "8  2020-03-10  \n",
       "9  2020-05-11  \n",
       "10 2021-01-07  \n",
       "11 2020-07-01  \n",
       "12 2020-11-12  \n",
       "13 2020-10-07  "
      ]
     },
     "execution_count": 24,
     "metadata": {},
     "output_type": "execute_result"
    }
   ],
   "source": [
    "marketing"
   ]
  },
  {
   "cell_type": "markdown",
   "metadata": {},
   "source": [
    "Найдем события для европейского региона:"
   ]
  },
  {
   "cell_type": "code",
   "execution_count": 25,
   "metadata": {},
   "outputs": [],
   "source": [
    "marketing['split_regions'] = marketing['regions'].str.split(', ')"
   ]
  },
  {
   "cell_type": "code",
   "execution_count": 26,
   "metadata": {},
   "outputs": [],
   "source": [
    "def is_eu(row):\n",
    "    '''\n",
    "    Функция проставляет флаг для европейского региона.\n",
    "    '''\n",
    "    res = 0\n",
    "    for el in row['split_regions']:\n",
    "        if el == 'EU': res += 1\n",
    "    return res"
   ]
  },
  {
   "cell_type": "code",
   "execution_count": 27,
   "metadata": {},
   "outputs": [
    {
     "data": {
      "text/html": [
       "<div>\n",
       "<style scoped>\n",
       "    .dataframe tbody tr th:only-of-type {\n",
       "        vertical-align: middle;\n",
       "    }\n",
       "\n",
       "    .dataframe tbody tr th {\n",
       "        vertical-align: top;\n",
       "    }\n",
       "\n",
       "    .dataframe thead th {\n",
       "        text-align: right;\n",
       "    }\n",
       "</style>\n",
       "<table border=\"1\" class=\"dataframe\">\n",
       "  <thead>\n",
       "    <tr style=\"text-align: right;\">\n",
       "      <th></th>\n",
       "      <th>name</th>\n",
       "      <th>regions</th>\n",
       "      <th>start_dt</th>\n",
       "      <th>finish_dt</th>\n",
       "      <th>split_regions</th>\n",
       "      <th>is_na</th>\n",
       "    </tr>\n",
       "  </thead>\n",
       "  <tbody>\n",
       "    <tr>\n",
       "      <td>0</td>\n",
       "      <td>Christmas&amp;New Year Promo</td>\n",
       "      <td>EU, N.America</td>\n",
       "      <td>2020-12-25</td>\n",
       "      <td>2021-01-03</td>\n",
       "      <td>[EU, N.America]</td>\n",
       "      <td>1</td>\n",
       "    </tr>\n",
       "    <tr>\n",
       "      <td>5</td>\n",
       "      <td>Black Friday Ads Campaign</td>\n",
       "      <td>EU, CIS, APAC, N.America</td>\n",
       "      <td>2020-11-26</td>\n",
       "      <td>2020-12-01</td>\n",
       "      <td>[EU, CIS, APAC, N.America]</td>\n",
       "      <td>1</td>\n",
       "    </tr>\n",
       "    <tr>\n",
       "      <td>7</td>\n",
       "      <td>Labor day (May 1st) Ads Campaign</td>\n",
       "      <td>EU, CIS, APAC</td>\n",
       "      <td>2020-05-01</td>\n",
       "      <td>2020-05-03</td>\n",
       "      <td>[EU, CIS, APAC]</td>\n",
       "      <td>1</td>\n",
       "    </tr>\n",
       "    <tr>\n",
       "      <td>3</td>\n",
       "      <td>Easter Promo</td>\n",
       "      <td>EU, CIS, APAC, N.America</td>\n",
       "      <td>2020-04-12</td>\n",
       "      <td>2020-04-19</td>\n",
       "      <td>[EU, CIS, APAC, N.America]</td>\n",
       "      <td>1</td>\n",
       "    </tr>\n",
       "    <tr>\n",
       "      <td>2</td>\n",
       "      <td>St. Patric's Day Promo</td>\n",
       "      <td>EU, N.America</td>\n",
       "      <td>2020-03-17</td>\n",
       "      <td>2020-03-19</td>\n",
       "      <td>[EU, N.America]</td>\n",
       "      <td>1</td>\n",
       "    </tr>\n",
       "    <tr>\n",
       "      <td>8</td>\n",
       "      <td>International Women's Day Promo</td>\n",
       "      <td>EU, CIS, APAC</td>\n",
       "      <td>2020-03-08</td>\n",
       "      <td>2020-03-10</td>\n",
       "      <td>[EU, CIS, APAC]</td>\n",
       "      <td>1</td>\n",
       "    </tr>\n",
       "    <tr>\n",
       "      <td>1</td>\n",
       "      <td>St. Valentine's Day Giveaway</td>\n",
       "      <td>EU, CIS, APAC, N.America</td>\n",
       "      <td>2020-02-14</td>\n",
       "      <td>2020-02-16</td>\n",
       "      <td>[EU, CIS, APAC, N.America]</td>\n",
       "      <td>1</td>\n",
       "    </tr>\n",
       "  </tbody>\n",
       "</table>\n",
       "</div>"
      ],
      "text/plain": [
       "                               name                   regions   start_dt  \\\n",
       "0          Christmas&New Year Promo             EU, N.America 2020-12-25   \n",
       "5         Black Friday Ads Campaign  EU, CIS, APAC, N.America 2020-11-26   \n",
       "7  Labor day (May 1st) Ads Campaign             EU, CIS, APAC 2020-05-01   \n",
       "3                      Easter Promo  EU, CIS, APAC, N.America 2020-04-12   \n",
       "2            St. Patric's Day Promo             EU, N.America 2020-03-17   \n",
       "8   International Women's Day Promo             EU, CIS, APAC 2020-03-08   \n",
       "1      St. Valentine's Day Giveaway  EU, CIS, APAC, N.America 2020-02-14   \n",
       "\n",
       "   finish_dt               split_regions  is_na  \n",
       "0 2021-01-03             [EU, N.America]      1  \n",
       "5 2020-12-01  [EU, CIS, APAC, N.America]      1  \n",
       "7 2020-05-03             [EU, CIS, APAC]      1  \n",
       "3 2020-04-19  [EU, CIS, APAC, N.America]      1  \n",
       "2 2020-03-19             [EU, N.America]      1  \n",
       "8 2020-03-10             [EU, CIS, APAC]      1  \n",
       "1 2020-02-16  [EU, CIS, APAC, N.America]      1  "
      ]
     },
     "execution_count": 27,
     "metadata": {},
     "output_type": "execute_result"
    }
   ],
   "source": [
    "marketing['is_na'] = marketing.apply(is_eu, axis=1)\n",
    "\n",
    "eu_marketing = marketing.query('is_na == 1')\n",
    "eu_marketing.sort_values('finish_dt', ascending=False) # сортировка для определения пересечений (наш тест в декабре)"
   ]
  },
  {
   "cell_type": "markdown",
   "metadata": {},
   "source": [
    "Согласно ТЗ, наш тест проходил с 7 декабря 2020 по 4 января 2021. С этими датами пересекается одномаркетинговое событие (`Christmas&New Year Promo`). Это недочет теста, так как маркетинговое событие повлияло на его результат."
   ]
  },
  {
   "cell_type": "markdown",
   "metadata": {},
   "source": [
    "#### Проверка аудитории теста\n",
    "\n",
    "[Вернуться в начало](#A/B-тестирование)"
   ]
  },
  {
   "cell_type": "code",
   "execution_count": 28,
   "metadata": {},
   "outputs": [
    {
     "data": {
      "text/plain": [
       "count                   46270\n",
       "unique                     17\n",
       "top       2020-12-21 00:00:00\n",
       "freq                     4650\n",
       "first     2020-12-07 00:00:00\n",
       "last      2020-12-23 00:00:00\n",
       "Name: first_date, dtype: object"
      ]
     },
     "execution_count": 28,
     "metadata": {},
     "output_type": "execute_result"
    }
   ],
   "source": [
    "eu_new_users = new_users.query('region == \"EU\"')\n",
    "eu_new_users['first_date'].describe()"
   ]
  },
  {
   "cell_type": "markdown",
   "metadata": {},
   "source": [
    "Видим, что последняя дата для новых пользователей - 23 декабря, хотя по ТЗ должно быть 21.\n",
    "\n",
    "Проверим соответствие аудитории теста 15% новых пользователей из европейского региона:"
   ]
  },
  {
   "cell_type": "code",
   "execution_count": 29,
   "metadata": {},
   "outputs": [
    {
     "data": {
      "text/plain": [
       "0.144823859952453"
      ]
     },
     "execution_count": 29,
     "metadata": {},
     "output_type": "execute_result"
    }
   ],
   "source": [
    "recom_test_participants['user_id'].nunique() / eu_new_users['user_id'].nunique()"
   ]
  },
  {
   "cell_type": "markdown",
   "metadata": {},
   "source": [
    "Не 15, но очень близко."
   ]
  },
  {
   "cell_type": "markdown",
   "metadata": {},
   "source": [
    "Проверим равномерность распределения по тестовым группам:"
   ]
  },
  {
   "cell_type": "code",
   "execution_count": 30,
   "metadata": {},
   "outputs": [
    {
     "data": {
      "text/plain": [
       "A    3824\n",
       "B    2877\n",
       "Name: group, dtype: int64"
      ]
     },
     "execution_count": 30,
     "metadata": {},
     "output_type": "execute_result"
    }
   ],
   "source": [
    "recom_test_participants['group'].value_counts()"
   ]
  },
  {
   "cell_type": "markdown",
   "metadata": {},
   "source": [
    "Видим, что группы распределены не равномерно."
   ]
  },
  {
   "cell_type": "markdown",
   "metadata": {},
   "source": [
    "### Анализ результатов теста\n",
    "\n",
    "[Вернуться в начало](#A/B-тестирование)"
   ]
  },
  {
   "cell_type": "code",
   "execution_count": 31,
   "metadata": {},
   "outputs": [
    {
     "data": {
      "text/html": [
       "<div>\n",
       "<style scoped>\n",
       "    .dataframe tbody tr th:only-of-type {\n",
       "        vertical-align: middle;\n",
       "    }\n",
       "\n",
       "    .dataframe tbody tr th {\n",
       "        vertical-align: top;\n",
       "    }\n",
       "\n",
       "    .dataframe thead th {\n",
       "        text-align: right;\n",
       "    }\n",
       "</style>\n",
       "<table border=\"1\" class=\"dataframe\">\n",
       "  <thead>\n",
       "    <tr style=\"text-align: right;\">\n",
       "      <th></th>\n",
       "      <th>user_id</th>\n",
       "      <th>event_conversion</th>\n",
       "    </tr>\n",
       "    <tr>\n",
       "      <th>event_name</th>\n",
       "      <th></th>\n",
       "      <th></th>\n",
       "    </tr>\n",
       "  </thead>\n",
       "  <tbody>\n",
       "    <tr>\n",
       "      <td>login</td>\n",
       "      <td>2747</td>\n",
       "      <td>1.000000</td>\n",
       "    </tr>\n",
       "    <tr>\n",
       "      <td>product_page</td>\n",
       "      <td>1780</td>\n",
       "      <td>0.647980</td>\n",
       "    </tr>\n",
       "    <tr>\n",
       "      <td>purchase</td>\n",
       "      <td>872</td>\n",
       "      <td>0.489888</td>\n",
       "    </tr>\n",
       "    <tr>\n",
       "      <td>product_cart</td>\n",
       "      <td>824</td>\n",
       "      <td>0.944954</td>\n",
       "    </tr>\n",
       "  </tbody>\n",
       "</table>\n",
       "</div>"
      ],
      "text/plain": [
       "              user_id  event_conversion\n",
       "event_name                             \n",
       "login            2747          1.000000\n",
       "product_page     1780          0.647980\n",
       "purchase          872          0.489888\n",
       "product_cart      824          0.944954"
      ]
     },
     "execution_count": 31,
     "metadata": {},
     "output_type": "execute_result"
    }
   ],
   "source": [
    "funnel_a = funnel_a.set_index('event_name')\n",
    "funnel_a"
   ]
  },
  {
   "cell_type": "code",
   "execution_count": 32,
   "metadata": {},
   "outputs": [
    {
     "data": {
      "text/html": [
       "<div>\n",
       "<style scoped>\n",
       "    .dataframe tbody tr th:only-of-type {\n",
       "        vertical-align: middle;\n",
       "    }\n",
       "\n",
       "    .dataframe tbody tr th {\n",
       "        vertical-align: top;\n",
       "    }\n",
       "\n",
       "    .dataframe thead th {\n",
       "        text-align: right;\n",
       "    }\n",
       "</style>\n",
       "<table border=\"1\" class=\"dataframe\">\n",
       "  <thead>\n",
       "    <tr style=\"text-align: right;\">\n",
       "      <th></th>\n",
       "      <th>user_id</th>\n",
       "      <th>event_conversion</th>\n",
       "    </tr>\n",
       "    <tr>\n",
       "      <th>event_name</th>\n",
       "      <th></th>\n",
       "      <th></th>\n",
       "    </tr>\n",
       "  </thead>\n",
       "  <tbody>\n",
       "    <tr>\n",
       "      <td>login</td>\n",
       "      <td>928</td>\n",
       "      <td>1.000000</td>\n",
       "    </tr>\n",
       "    <tr>\n",
       "      <td>product_page</td>\n",
       "      <td>523</td>\n",
       "      <td>0.563578</td>\n",
       "    </tr>\n",
       "    <tr>\n",
       "      <td>purchase</td>\n",
       "      <td>256</td>\n",
       "      <td>0.489484</td>\n",
       "    </tr>\n",
       "    <tr>\n",
       "      <td>product_cart</td>\n",
       "      <td>255</td>\n",
       "      <td>0.996094</td>\n",
       "    </tr>\n",
       "  </tbody>\n",
       "</table>\n",
       "</div>"
      ],
      "text/plain": [
       "              user_id  event_conversion\n",
       "event_name                             \n",
       "login             928          1.000000\n",
       "product_page      523          0.563578\n",
       "purchase          256          0.489484\n",
       "product_cart      255          0.996094"
      ]
     },
     "execution_count": 32,
     "metadata": {},
     "output_type": "execute_result"
    }
   ],
   "source": [
    "funnel_b = funnel_b.set_index('event_name')\n",
    "funnel_b"
   ]
  },
  {
   "cell_type": "markdown",
   "metadata": {},
   "source": [
    "Зададим критический уровень статистической значимости, равный 0,05 и проверим статистическую разницу долей z-критерием:"
   ]
  },
  {
   "cell_type": "code",
   "execution_count": 33,
   "metadata": {},
   "outputs": [
    {
     "data": {
      "text/plain": [
       "Index(['login', 'product_page', 'purchase', 'product_cart'], dtype='object', name='event_name')"
      ]
     },
     "execution_count": 33,
     "metadata": {},
     "output_type": "execute_result"
    }
   ],
   "source": [
    "funnel_a.index"
   ]
  },
  {
   "cell_type": "code",
   "execution_count": 34,
   "metadata": {},
   "outputs": [
    {
     "name": "stdout",
     "output_type": "stream",
     "text": [
      "\u001b[1mСобытие: product_page \n",
      "\u001b[0;0m\n",
      "Доля для группы A: 1780 из 2747\n",
      "Доля для группы B: 523 из 928\n",
      "\n",
      "p_value: 4.310980554755872e-06\n"
     ]
    },
    {
     "data": {
      "text/html": [
       "<font color='red'>Отвергаем нулевую гипотезу: между долями есть значимая разница</font>"
      ],
      "text/plain": [
       "<IPython.core.display.HTML object>"
      ]
     },
     "metadata": {},
     "output_type": "display_data"
    },
    {
     "name": "stdout",
     "output_type": "stream",
     "text": [
      "\u001b[1mСобытие: purchase \n",
      "\u001b[0;0m\n",
      "Доля для группы A: 872 из 2747\n",
      "Доля для группы B: 256 из 928\n",
      "\n",
      "p_value: 0.017592402663314743\n"
     ]
    },
    {
     "data": {
      "text/html": [
       "<font color='red'>Отвергаем нулевую гипотезу: между долями есть значимая разница</font>"
      ],
      "text/plain": [
       "<IPython.core.display.HTML object>"
      ]
     },
     "metadata": {},
     "output_type": "display_data"
    },
    {
     "name": "stdout",
     "output_type": "stream",
     "text": [
      "\u001b[1mСобытие: product_cart \n",
      "\u001b[0;0m\n",
      "Доля для группы A: 824 из 2747\n",
      "Доля для группы B: 255 из 928\n",
      "\n",
      "p_value: 0.14534814557238196\n"
     ]
    },
    {
     "data": {
      "text/html": [
       "<font color='green'>Не получилось отвергнуть нулевую гипотезу,                                            нет оснований считать доли разными</font>"
      ],
      "text/plain": [
       "<IPython.core.display.HTML object>"
      ]
     },
     "metadata": {},
     "output_type": "display_data"
    }
   ],
   "source": [
    "alpha = 0.05\n",
    "\n",
    "for event in ['product_page', 'purchase', 'product_cart']:\n",
    "    current = np.array([funnel_a.loc[event, 'user_id'], funnel_b.loc[event, 'user_id']])\n",
    "    total = np.array([funnel_a.loc['login', 'user_id'], funnel_b.loc['login', 'user_id']]) # за тотал берем значение из воронки,\n",
    "                                                                                           # соответствующее логину\n",
    "    # доли в группах:\n",
    "    p1 = current[0]/total[0]\n",
    "    p2 = current[1]/total[1]\n",
    "    \n",
    "    # доля в комбинированном датасете:\n",
    "    p_combined = (current[0] + current[1]) / (total[0] + total[1])\n",
    "    \n",
    "    # разница долей в датасетах\n",
    "    difference = p1 - p2 \n",
    "        \n",
    "    # считаем статистику в ст.отклонениях стандартного нормального распределения\n",
    "    z_value = difference / mth.sqrt(p_combined * (1 - p_combined) * (1/total[0] + 1/total[1]))\n",
    "        \n",
    "    # задаем стандартное нормальное распределение (среднее 0, ст.отклонение 1)\n",
    "    distr = st.norm(0, 1) \n",
    "        \n",
    "    p_value = (1 - distr.cdf(abs(z_value))) * 2\n",
    "    \n",
    "    print('\\033[1m' + 'Событие:', event,'\\n' + '\\033[0;0m')\n",
    "    print('Доля для группы A:', current[0],'из',total[0])\n",
    "    print('Доля для группы B:', current[1],'из',total[1])\n",
    "    print('\\np_value:', p_value)\n",
    "        \n",
    "    if (p_value < alpha):\n",
    "        display(HTML(\"<font color='red'>Отвергаем нулевую гипотезу: между долями есть значимая разница</font>\"))\n",
    "    else:\n",
    "        display(HTML(\"<font color='green'>Не получилось отвергнуть нулевую гипотезу,\\\n",
    "                                            нет оснований считать доли разными</font>\"))"
   ]
  },
  {
   "cell_type": "markdown",
   "metadata": {},
   "source": [
    "Видим, что для событий *страница карточек продукта и покупка* между долями есть значимая разница, в то время, как для *просмотра корзины* нет."
   ]
  },
  {
   "cell_type": "markdown",
   "metadata": {},
   "source": [
    "### Выводы\n",
    "\n",
    "[Вернуться в начало](#A/B-тестирование)"
   ]
  },
  {
   "cell_type": "markdown",
   "metadata": {},
   "source": [
    "В ходе выполнения проекта в проведенном тесте были обнаружены следующие **недочеты**:\n",
    "- тест остановлен на 5 дней раньше, чем нужно;\n",
    "- 1602 пользователя (9,61%) участвовали в двух тестах;\n",
    "- с тестом пересекается маркетинговое событие (Christmas&New Year Promo), что могло повлиять на его результат;\n",
    "- последняя дата для новых пользователей - 23 декабря, хотя по ТЗ должно быть 21;\n",
    "- группы в тесте распределены не равномерно.\n",
    "\n",
    "Итог: *тест проведен некорректно.*\n",
    "\n",
    "При таких данных тест показал, что для конверсии в просмотр карточек товаров и покупки между долями есть значимая разница, в то время, как для просмотра корзины нет.\n",
    "\n",
    "Тест следует провести заново, уитывая приведенные выше замечания."
   ]
  }
 ],
 "metadata": {
  "kernelspec": {
   "display_name": "Python 3",
   "language": "python",
   "name": "python3"
  },
  "language_info": {
   "codemirror_mode": {
    "name": "ipython",
    "version": 3
   },
   "file_extension": ".py",
   "mimetype": "text/x-python",
   "name": "python",
   "nbconvert_exporter": "python",
   "pygments_lexer": "ipython3",
   "version": "3.8.3"
  },
  "toc": {
   "base_numbering": 1,
   "nav_menu": {},
   "number_sections": true,
   "sideBar": true,
   "skip_h1_title": true,
   "title_cell": "Table of Contents",
   "title_sidebar": "Contents",
   "toc_cell": false,
   "toc_position": {},
   "toc_section_display": true,
   "toc_window_display": false
  }
 },
 "nbformat": 4,
 "nbformat_minor": 2
}
